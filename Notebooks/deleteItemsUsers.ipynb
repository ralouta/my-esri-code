{
 "cells": [
  {
   "cell_type": "code",
   "execution_count": 3,
   "metadata": {},
   "outputs": [
    {
     "name": "stderr",
     "output_type": "stream",
     "text": [
      "C:\\Users\\rami8629\\AppData\\Local\\ESRI\\conda\\envs\\arcgispro-py3-geopandas\\lib\\site-packages\\scipy\\__init__.py:138: UserWarning: A NumPy version >=1.16.5 and <1.23.0 is required for this version of SciPy (detected version 1.25.1)\n",
      "  warnings.warn(f\"A NumPy version >={np_minversion} and <{np_maxversion} is required for this version of \"\n"
     ]
    }
   ],
   "source": [
    "import pandas as pd\n",
    "from arcgis.gis import GIS"
   ]
  },
  {
   "cell_type": "code",
   "execution_count": 5,
   "metadata": {},
   "outputs": [],
   "source": [
    "# Define the Excel file name and sheet names\n",
    "excel_file_path = r\"D:\\OneDrive - Esri\\Demos & Blogs\\Code-Repo\\Notebooks\\ArcGIS_Online_Management.xlsx\"\n",
    "user_sheet_name = 'inactive_items_per_user'\n",
    "item_sheet_name = 'inactive_items'\n",
    "\n",
    "# Read the user and item data from Excel\n",
    "user_df = pd.read_excel(excel_file_path, sheet_name=user_sheet_name)\n",
    "item_df = pd.read_excel(excel_file_path, sheet_name=item_sheet_name)\n",
    "\n",
    "# Initialize the ArcGIS GIS object (you may need to provide your ArcGIS Online organization URL and credentials)\n",
    "gis = GIS(\"Pro\")"
   ]
  },
  {
   "cell_type": "code",
   "execution_count": 15,
   "metadata": {},
   "outputs": [
    {
     "data": {
      "text/plain": [
       "{'ae42b498eb6d4604bc3af064d0c9b6b0', '28fe3bd88c5444408ade7dd0d7ae627c', 'c587553694da4f46a0c9c3a6cd1e81d6', '84e2a140ad96401783c777373de2e4e0', '26d1cede121843fcb1d02206afeac3bd'}"
      ]
     },
     "execution_count": 15,
     "metadata": {},
     "output_type": "execute_result"
    }
   ],
   "source": [
    "all_items"
   ]
  },
  {
   "cell_type": "code",
   "execution_count": 46,
   "metadata": {},
   "outputs": [],
   "source": [
    "# Function to get a list of item IDs owned by a user and check if they are deprecated\n",
    "def get_and_check_items(username):\n",
    "    user = gis.users.get(username)\n",
    "    \n",
    "    deprecated_items = []\n",
    "    valid_items = []\n",
    "\n",
    "    users_folder_list = user.folders\n",
    "    items_root = user.items()\n",
    "    for item in items_root:\n",
    "        item_row = item_df[item_df['item_id'] == item.id]\n",
    "        if not item_row.empty and item_row['keep_item_yes_no'].values[0] == 'No':\n",
    "            deprecated_items.append(item.id)\n",
    "        else:\n",
    "            valid_items.append(item.id)\n",
    "    for user_folder in users_folder_list:\n",
    "        for item in user.items(folder=user_folder['title']):\n",
    "            item_row = item_df[item_df['item_id'] == item.id]\n",
    "            if not item_row.empty and item_row['keep_item_yes_no'].values[0] == 'No':\n",
    "                deprecated_items.append(item.id)\n",
    "            else:\n",
    "                valid_items.append(item.id)\n",
    "\n",
    "    return deprecated_items, valid_items\n",
    "\n",
    "# Function to unshare and delete deprecated items\n",
    "def process_deprecated_items(deprecated_item_ids):\n",
    "    for item_id in deprecated_item_ids:\n",
    "        item = gis.content.get(item_id)\n",
    "        \n",
    "        # Unshare the item\n",
    "        item.share(everyone=False, org=False, groups=[])\n",
    "        \n",
    "        # Delete the item\n",
    "        item.delete()\n",
    "        print(f\"Item: {item['name']} of id:{item['id']} owned by {item['owner']} is deleted\")\n",
    "\n",
    "# Function to change ownership of valid items and delete the previous owner\n",
    "def change_owner_and_delete_previous_owner(valid_item_ids, new_owner_username):\n",
    "    for item_id in valid_item_ids:\n",
    "        item = gis.content.get(item_id)\n",
    "        \n",
    "        # Change ownership to the new owner\n",
    "        item.reassign_to(new_owner_username)\n",
    "        \n",
    "        # Delete the previous owner (specified in user_df)\n",
    "    try:\n",
    "        user_to_delete = gis.users.get(item.owner)\n",
    "        user_to_delete.delete()\n",
    "        print(f\"{item.owner} is deleted from ArcGIS Online\")\n",
    "    except Exception as e:\n",
    "        print(f\"Error deleting previous owner {item.owner}: {str(e)}\")\n"
   ]
  },
  {
   "cell_type": "code",
   "execution_count": 44,
   "metadata": {},
   "outputs": [
    {
     "data": {
      "text/plain": [
       "[]"
      ]
     },
     "execution_count": 44,
     "metadata": {},
     "output_type": "execute_result"
    }
   ],
   "source": [
    "deprecated_items"
   ]
  },
  {
   "cell_type": "code",
   "execution_count": 45,
   "metadata": {},
   "outputs": [
    {
     "data": {
      "text/plain": [
       "70"
      ]
     },
     "execution_count": 45,
     "metadata": {},
     "output_type": "execute_result"
    }
   ],
   "source": [
    "valid_items"
   ]
  },
  {
   "cell_type": "code",
   "execution_count": 47,
   "metadata": {
    "scrolled": true
   },
   "outputs": [
    {
     "name": "stdout",
     "output_type": "stream",
     "text": [
      "All Deprecated Items:\n",
      "[]\n",
      "\n",
      "All Valid Items:\n",
      "['32dc439091424382ad32f441fefc7e5f', '1ed849316e974ad0b7bd0cb72a9dddc1', 'f8384d03a61d4014a485c61aeb238419', 'a0f092dde3aa43a1baa276b45ee9dbf9', '43574fa867554f0aa6556099dc1322d2', 'cd85827e08a141f599cb31b3edfd761a', '7aec71b8aa774bb0a687c74d3aa37d14', '1a4e142d0bee4d00a90cac48e7936a2a', 'abbe69b747f24eaca715760f38931842', '7dfe8468a362406b8b6fcc6e8f31a5a0', '5f282570c0bf4cb0907d13e5e6d8c154', '60236d0d981a4edcb0e03cdb9f5a978c', 'a5d61d59ac4a450884f84ea344c0f409', 'f9603e57590047e7b473264ca26b6bce', '7d69a178a11e4a1782fa76ce70ea4cef', 'd485e6542df6468eaa9f2ce17f53b6de', 'c3c0e96846b3487c8af0bfafd420547f', '1927508dd0f145b4a63bf295aa5c887d', '2b6a4cd1b3bd4b11a1f3f9bb5cd9922a', 'c3620becf01d44128850c4991866e122', '658c3a2cc1b74882b58b7e7c7b2265c5', '9b7cf9f7f49f4af2abac8ceefe73222b', '8a643cf28c604920ab1723d60d9e5dd9', 'ac8b329013ec467bb0d740a1b62c2a94', '7788503cd2d44377b65f2e7e752d2721', '0bf4904c10874f9a871eda735f7a1554', 'e9e393944cd24e219efdb7e302ac856c', '94aea4304a0846fd9a9f5f2184910ed8', 'a23ca1a68d6847aab1f6b334168bf47e', '66e528929a56483ba05331b4b931bcf0', 'd1f742756fd349798d7609edd8708078', '631989ec305e49c09e3be587e2c2e55c', '0ff475efc8bf47118aba8f428c56510d', 'adfe849af9964aec9cd72a9730055237', '74d73afd0f624ff89967e65d869087b4', '4d1b8f3ccb28464c960c7db47c0c3096', '94f505c81bc249a2a4e08d70a95f675d', 'de7ba82d49c64c40b8e7bc899395b54d', '869d2ce672234a46ba66bc2a66d1d6f8', '9f6b0e3f501349f08763d89f7e90bb07', 'd9b60a1fe59d4ee681100cbb77272c4f', '9a1fd4706b7d404d842fc50c2895e1d7', 'ab4d0ffc3286443681a37e8ae6938b85', 'f1f12781a3b34f4eb439e3b34790c644', 'f518d3f74b7e4c72840dac30f7233259', '0d021a5e61e04f53904942190982ca52', '27e42c0da7604fef861831cc24a0aff4', '509daf02b8f04178a229d29712535bd7', 'c335207b1f8e45cb98188de20de8fa8b', 'ca9bb2048d4d4d5faf0897c94887d2e4', 'f8bb47dc78cc416fa75e7989ac1ad859', 'c0f7f986120d49cc90bbe2b934128b75', 'b6d9d70f689b4cc6b265640dac3786da', '090ee480105043908809157a4d3e0c3f', 'a0729e7d26024c63911aef33c5ceb3e1', '48424dfd0a574e75a1dac19c8e382777', '9c3b238e7bad4c5d85d2ee6487ecea02', 'bc98133261af4dcdb561dc5570950dd2', 'a3f217c4350d40cc93356907be09c151', 'aeb5bd948aa949ceb915d783b9cd72de', '2c5c0de8912a4dccac52b55d7c28f3ae', 'ed91ea7ffacb49ba816f5618e2f01aa4', 'd67af354f2764335989f042d1552eae7', '5572f4f015a44bf4b6b0a5cb73235ace', 'b4329f29a04542b59f187d950d85fe1e', 'a7a95882ea8441d3a2f1a49bc5793c9b', '0b25c38c58164685808f9f76fb53b9a6', '7cc6c99158be49ca883429fcf7b2f82d', '67b95dfdaacf44478a9a5f984397ff65', '21de66189c224540a5e994d48184f5e2']\n"
     ]
    }
   ],
   "source": [
    "# Initialize a list to store deprecated item IDs and valid item IDs\n",
    "all_deprecated_items = []\n",
    "all_valid_items = []\n",
    "\n",
    "# Iterate through the user DataFrame and get/deprecate items\n",
    "for _, row in user_df.iterrows():\n",
    "    username = row['username']\n",
    "    deprecated_items, valid_items = get_and_check_items(username)\n",
    "    \n",
    "    all_deprecated_items.extend(deprecated_items)\n",
    "    all_valid_items.extend(valid_items)\n",
    "\n",
    "# Remove duplicates from the deprecated_items and valid_items lists\n",
    "all_deprecated_items = list(set(all_deprecated_items))\n",
    "all_valid_items = list(set(all_valid_items))\n",
    "\n",
    "# Print the results\n",
    "print(\"All Deprecated Items:\")\n",
    "print(all_deprecated_items)\n",
    "\n",
    "print(\"\\nAll Valid Items:\")\n",
    "print(all_valid_items)"
   ]
  },
  {
   "cell_type": "code",
   "execution_count": 34,
   "metadata": {},
   "outputs": [
    {
     "name": "stdout",
     "output_type": "stream",
     "text": [
      "Item: 93rd_St_Elem.PNG of id:ae42b498eb6d4604bc3af064d0c9b6b0 owned by ksmyth_aid is deleted\n",
      "Item: NLL_BA_Demo.docx of id:28fe3bd88c5444408ade7dd0d7ae627c owned by ksmyth_aid is deleted\n",
      "Item: None of id:c587553694da4f46a0c9c3a6cd1e81d6 owned by ksmyth_aid is deleted\n",
      "Item: None of id:84e2a140ad96401783c777373de2e4e0 owned by ksmyth_aid is deleted\n",
      "Item: None of id:26d1cede121843fcb1d02206afeac3bd owned by ksmyth_aid is deleted\n"
     ]
    }
   ],
   "source": [
    "# Process deprecated items (unshare and delete)\n",
    "process_deprecated_items(all_deprecated_items)\n",
    "\n",
    "# Change ownership of valid items to the signed-in user\n",
    "signed_in_user = gis.users.me\n",
    "change_owner(all_valid_items, signed_in_user.username)"
   ]
  }
 ],
 "metadata": {
  "kernelspec": {
   "display_name": "Python 3",
   "language": "python",
   "name": "python3"
  },
  "language_info": {
   "file_extension": ".py",
   "name": "python",
   "version": "3"
  }
 },
 "nbformat": 4,
 "nbformat_minor": 2
}
